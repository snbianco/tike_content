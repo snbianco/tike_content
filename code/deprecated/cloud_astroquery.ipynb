{
 "cells": [
  {
   "cell_type": "markdown",
   "metadata": {},
   "source": [
    "# Using Cloud-Hosted Data\n",
    "\n",
    "All of the TESS, Kepler and K2 science data are available in an S3 public bucket.  Astroquery allows you to easily change your code to first try to retrieve the data from the AWS cloud-hosted version before attempting to retrieve it from MAST.\n",
    "\n",
    "In this tutorial you will learn:\n",
    " - How to retrieve data from the public bucket using astroquery.\n",
    " - How to retrieve the directory listing of the contents of the bucket."
   ]
  },
  {
   "cell_type": "markdown",
   "metadata": {},
   "source": [
    "## Enable Cloud Dataset\n",
    "To make astroquery retrieve data from the AWS public buckets, do the following:"
   ]
  },
  {
   "cell_type": "code",
   "execution_count": 1,
   "metadata": {},
   "outputs": [
    {
     "name": "stderr",
     "output_type": "stream",
     "text": [
      "WARNING: AstropyDeprecationWarning: MAST Open Data on AWS is now free to access and does not require an AWS account [astroquery.mast.cloud]\n"
     ]
    },
    {
     "name": "stdout",
     "output_type": "stream",
     "text": [
      "INFO: Using the S3 STScI public dataset [astroquery.mast.cloud]\n"
     ]
    }
   ],
   "source": [
    "from astroquery.mast import Observations\n",
    "Observations.enable_cloud_dataset(provider='AWS', profile='default')"
   ]
  },
  {
   "cell_type": "markdown",
   "metadata": {},
   "source": [
    "The `astroquery.mast.Observations` module contains a method called `enable_cloud_dataset`.  When this method is called, the code first attempts to retrieve the data from the cloud."
   ]
  },
  {
   "cell_type": "markdown",
   "metadata": {},
   "source": [
    "### Full Example\n",
    "Here is a full example to download a TESS light curve with Astroquery for Kepler-10. See the Astroquery notebooks for more details on finding MAST data with astroquery. \n",
    "\n",
    "The variable manifest will contain the local filename for the downloaded files."
   ]
  },
  {
   "cell_type": "code",
   "execution_count": 2,
   "metadata": {},
   "outputs": [
    {
     "name": "stdout",
     "output_type": "stream",
     "text": [
      "INFO: Using the S3 STScI public dataset [astroquery.mast.cloud]\n"
     ]
    },
    {
     "name": "stderr",
     "output_type": "stream",
     "text": [
      "WARNING: AstropyDeprecationWarning: MAST Open Data on AWS is now free to access and does not require an AWS account [astroquery.mast.cloud]\n"
     ]
    },
    {
     "name": "stdout",
     "output_type": "stream",
     "text": [
      "Downloading URL s3://stpubdata/tess/public/tid/s0014/0000/0003/7778/0790/tess2019198215352-s0014-0000000377780790-0150-s_lc.fits to ./mastDownload/TESS/tess2019198215352-s0014-0000000377780790-0150-s/tess2019198215352-s0014-0000000377780790-0150-s_lc.fits ... [Done]\n",
      "Downloading URL s3://stpubdata/tess/public/tid/s0014/0000/0003/7778/0790/tess2019198215352-s0014-0000000377780790-0150-s_tp.fits to ./mastDownload/TESS/tess2019198215352-s0014-0000000377780790-0150-s/tess2019198215352-s0014-0000000377780790-0150-s_tp.fits ... [Done]\n"
     ]
    }
   ],
   "source": [
    "from astroquery.mast import Observations\n",
    "Observations.enable_cloud_dataset(provider='AWS', profile='default')\n",
    "\n",
    "target = \"Kepler-10\"\n",
    "\n",
    "#Do a cone search and find the Kepler long cadence data for your target\n",
    "obs = Observations.query_object(target,radius=\"0s\")\n",
    "want = (obs['obs_collection'] == \"TESS\") & (obs['t_exptime'] ==120)\n",
    "\n",
    "#Get Product List for that observation\n",
    "data_prod = Observations.get_product_list(obs[want])\n",
    "\n",
    "#Move data from the S3 bucket to the default astroquery location. \n",
    "#cloud_only=True means that data will only be retrieved if available on AWS S3\n",
    "manifest = Observations.download_products(data_prod, cloud_only=True)"
   ]
  },
  {
   "cell_type": "markdown",
   "metadata": {},
   "source": [
    "### Uniform Identifier\n",
    "If you would imply like to get the URI (Uniform Resource Identifier), or unique identifier for each data file, use the `get_cloud_uris` function."
   ]
  },
  {
   "cell_type": "code",
   "execution_count": 3,
   "metadata": {},
   "outputs": [
    {
     "name": "stdout",
     "output_type": "stream",
     "text": [
      "['s3://stpubdata/tess/public/tid/s0014/0000/0003/7778/0790/tess2019198215352-s0014-0000000377780790-0150-s_lc.fits', 's3://stpubdata/tess/public/tid/s0014/0000/0003/7778/0790/tess2019198215352-s0014-0000000377780790-0150-s_tp.fits']\n"
     ]
    }
   ],
   "source": [
    "#Get cloud URIs\n",
    "data_uri = Observations.get_cloud_uris(data_prod)\n",
    "\n",
    "print(data_uri)"
   ]
  },
  {
   "cell_type": "markdown",
   "metadata": {},
   "source": [
    "## AWS Credentials\n",
    "As of early 2021, copying data from the MAST Public Data S3 Buckets no longer requires \"requestor pays\", and therefore these data can be accessed anonymously without using AWS credentials (https://registry.opendata.aws/collab/stsci/).  As of v0.4.2, the astroquery.MAST cloud access functions do not need AWS credentials."
   ]
  },
  {
   "cell_type": "markdown",
   "metadata": {},
   "source": [
    "---"
   ]
  },
  {
   "cell_type": "markdown",
   "metadata": {},
   "source": [
    "author: Susan Mullally\n",
    "\n",
    "date: 2020-04-24 (updated 2021-12-06)"
   ]
  },
  {
   "cell_type": "code",
   "execution_count": null,
   "metadata": {},
   "outputs": [],
   "source": []
  }
 ],
 "metadata": {
  "kernelspec": {
   "display_name": "TESS Environment",
   "language": "python",
   "name": "tess"
  },
  "language_info": {
   "codemirror_mode": {
    "name": "ipython",
    "version": 3
   },
   "file_extension": ".py",
   "mimetype": "text/x-python",
   "name": "python",
   "nbconvert_exporter": "python",
   "pygments_lexer": "ipython3",
   "version": "3.6.12"
  }
 },
 "nbformat": 4,
 "nbformat_minor": 4
}