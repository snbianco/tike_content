{
 "cells": [
  {
   "cell_type": "markdown",
   "metadata": {},
   "source": [
    "# Example TESS Catalog Queries\n",
    "This notebook shows you two example panels for exploring catalog information on a TESS target. One does a simple cone-search of the Tess Input Catalog.  The second overlays a search of the TIC onto a TESS image and identifies if there is 2-minute data on nearby stars. These use the `panel` module to allow for interactive filtering.\n",
    "\n",
    "These examples rely on tic_viz and panel to run. panel.extension() must be run in the notebook before calling the tic_viz functions."
   ]
  },
  {
   "cell_type": "code",
   "execution_count": null,
   "metadata": {},
   "outputs": [],
   "source": [
    "import tic_viz as viz\n",
    "import panel as pn\n",
    "pn.extension()"
   ]
  },
  {
   "cell_type": "markdown",
   "metadata": {},
   "source": [
    "## Query TIC\n",
    "Simple cone sarch of the TESS Input Catalog. \n",
    "The table is sorted by distance from the requested location on the sky."
   ]
  },
  {
   "cell_type": "code",
   "execution_count": null,
   "metadata": {},
   "outputs": [],
   "source": [
    "viz.query_tic()"
   ]
  },
  {
   "cell_type": "markdown",
   "metadata": {},
   "source": [
    "## Target Overview\n",
    "The `target_overview` function returns several tabs of information based on the selected target of interest. Since it is retrieving a TESS image, it takes a few seconds to load. You must input the target name or coordinates when calling the function, you cannot change the location after the panel loads. This function loads the following interactive tables and visualizations:\n",
    "* TIC parameters of nearby stars\n",
    "* 2-minute data availability of nearest targets\n",
    "* Available planet search data (DV files) for nearest targets\n",
    "* Plot of TESS image with overlayed stars.\n",
    "\n",
    "Input:\n",
    "* name: name of the star or coordinates\n",
    "* radius_deg: size of the cone search and image (0.4 maximum)\n",
    "* num_search: number of nearby stars to search for 2-minute data around"
   ]
  },
  {
   "cell_type": "code",
   "execution_count": null,
   "metadata": {},
   "outputs": [],
   "source": [
    "viz.target_overview(name=\"TOI-1002.01\", radius_deg = 0.10, num_search = 20)"
   ]
  }
 ],
 "metadata": {
  "kernelspec": {
   "display_name": "TESS Environment",
   "language": "python",
   "name": "tess"
  },
  "language_info": {
   "codemirror_mode": {
    "name": "ipython",
    "version": 3
   },
   "file_extension": ".py",
   "mimetype": "text/x-python",
   "name": "python",
   "nbconvert_exporter": "python",
   "pygments_lexer": "ipython3",
   "version": "3.6.12"
  }
 },
 "nbformat": 4,
 "nbformat_minor": 4
}