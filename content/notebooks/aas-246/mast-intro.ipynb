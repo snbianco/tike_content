{
 "cells": [
  {
   "cell_type": "markdown",
   "metadata": {},
   "source": [
    "<a id=\"top\"></a>\n",
    "# An Intro to MAST\n",
    "***\n",
    "## Learning Goals\n",
    "\n",
    "By the end of this tutorial, you will:\n",
    "\n",
    "- Know what MAST is, and be able to list a few missions that have data in MAST\n",
    "- Be prepared for this workshop!\n"
   ]
  },
  {
   "cell_type": "markdown",
   "metadata": {
    "slideshow": {
     "slide_type": "slide"
    }
   },
   "source": [
    "## Table of Contents\n",
    "* [Introduction](#Introduction)\n",
    "* [Main Content (Rename)](#Main-Content-(Rename))\n",
    "    * [Loading Data (Rename)](#Loading-Data-(Rename,-e.g.-Querying-for-TESS-Data))\n",
    "    * [File and Data Information](#File-and-Data-Information)\n",
    "    * [Visualization, where relevant](#Visualization,-where-relevant)\n",
    "* [Exercises](#Exercises)\n",
    "* [Additional Resources](#Additional-Resources)\n",
    "\n",
    "## Introduction to MAST\n",
    "\n",
    "The Barbara A. Mikulski Archive for Space Telescopes is a multi-mission archive.\n",
    "\n",
    "ideas:\n",
    "- have people list missions / look for missions that start with a certain letter\n",
    "- when was MAST created?\n",
    "- oldest mission?\n",
    "\n",
    "https://archive.stsci.edu/\n"
   ]
  },
  {
   "cell_type": "code",
   "execution_count": null,
   "metadata": {
    "slideshow": {
     "slide_type": "fragment"
    }
   },
   "outputs": [],
   "source": [
    "%matplotlib inline\n",
    "\n",
    "import matplotlib.pyplot as plt\n",
    "import numpy as np\n",
    "\n",
    "from astropy.io import fits\n",
    "from astropy.table import Table\n",
    "from astroquery.mast import Mast\n",
    "from astroquery.mast import Observations"
   ]
  },
  {
   "cell_type": "markdown",
   "metadata": {},
   "source": [
    "***"
   ]
  },
  {
   "cell_type": "markdown",
   "metadata": {
    "slideshow": {
     "slide_type": "slide"
    }
   },
   "source": [
    "For example, if we wanted to query for data from MAST for TESS we might do something like:"
   ]
  },
  {
   "cell_type": "code",
   "execution_count": null,
   "metadata": {
    "slideshow": {
     "slide_type": "fragment"
    }
   },
   "outputs": [],
   "source": [
    "# Query for a reproducible TESS Observation\n",
    "TESSObs = Observations.query_criteria(target_name='8262242', t_exptime=[120,120])\n",
    "\n",
    "# Get the list of corresponding products\n",
    "TESSProds = Observations.get_product_list(TESSObs[0])\n",
    "\n",
    "# Filter for the products we want\n",
    "yourProd = Observations.filter_products(TESSProds,description='Light curves')"
   ]
  },
  {
   "cell_type": "markdown",
   "metadata": {},
   "source": [
    "### File and Data Information"
   ]
  },
  {
   "cell_type": "markdown",
   "metadata": {},
   "source": [
    "Where possible (if the code supports it), use code examples that visually display the data in the tutorial. For example, if you are showing an object such as an Astropy Table, display a preview:"
   ]
  },
  {
   "cell_type": "code",
   "execution_count": null,
   "metadata": {},
   "outputs": [],
   "source": [
    "# Display the first five products in the results table\n",
    "# (in this case, there is only one product to display)\n",
    "yourProd[0:5]"
   ]
  },
  {
   "cell_type": "markdown",
   "metadata": {},
   "source": [
    "### Downloads to a Local Machine\n",
    "\n",
    "Be cognizant of file size when writing a tutorial; users should not need to wait for more than ~60 seconds for something to download. A 10MB file is likely appropriate. A 10 GB file is definitely not."
   ]
  },
  {
   "cell_type": "code",
   "execution_count": null,
   "metadata": {},
   "outputs": [],
   "source": [
    "# Download the products to our local directory\n",
    "output = Observations.download_products(yourProd)\n",
    "output"
   ]
  },
  {
   "cell_type": "markdown",
   "metadata": {},
   "source": [
    "Explain pertinent details about the file you've just downloaded. For example, if working with TESS light curves, explain what's in the different file extensions:\n",
    "\n",
    "```\n",
    "- No. 0 (Primary): This HDU contains metadata related to the entire file.\n",
    "- No. 1 (Light curve): This HDU contains a binary table that holds data like\n",
    "  flux measurements and times. We will extract information from here when we\n",
    "  define the parameters for the light curve plot.\n",
    "- No. 2 (Aperture): This HDU contains the image extension with data collected\n",
    "  from the aperture. We will also use this to display a bitmask plot that\n",
    "  visually represents the optimal aperture used to create the SAP_FLUX column in\n",
    "  HDU1.\n",
    "\n",
    "```"
   ]
  },
  {
   "cell_type": "code",
   "execution_count": null,
   "metadata": {},
   "outputs": [],
   "source": [
    "# Get the path to the file\n",
    "file = output['Local Path'][0]\n",
    "\n",
    "# Print out some information about our file\n",
    "print('The HDU list of our output file:\\n')\n",
    "print(fits.info(file))\n",
    "\n",
    "# Load in the flux and time data\n",
    "time = fits.getdata(file, 1)['time']\n",
    "flux = fits.getdata(file, 1)['pdcsap_flux']"
   ]
  },
  {
   "cell_type": "markdown",
   "metadata": {
    "jp-MarkdownHeadingCollapsed": true,
    "tags": []
   },
   "source": [
    "Let's plot the light curve from the file we just downloaded."
   ]
  },
  {
   "cell_type": "code",
   "execution_count": null,
   "metadata": {
    "scrolled": true,
    "tags": []
   },
   "outputs": [],
   "source": [
    "# Create the figure\n",
    "fig, ax = plt.subplots(1, figsize=(5,5))\n",
    "# Show the image data\n",
    "ax.plot(time, flux)\n",
    "\n",
    "# Set x/y labels\n",
    "ax.set_xlabel(\"Date (BTJD)\")\n",
    "ax.set_ylabel(\"Flux (e-/s)\")\n",
    "\n",
    "# Set the title for the image, make the font large\n",
    "ax.set_title(\"TIC 8262242 light curve\", fontsize=25)"
   ]
  },
  {
   "cell_type": "markdown",
   "metadata": {},
   "source": [
    "## Additional Resources\n",
    "\n",
    "This section is optional. Try to weave resource links into the main content of your tutorial so that they are falling in line with the context of your writing. For resources that do not fit cleanly into your narrative, you may include an additional resources section at the end of your tutorial. Usually a list of links using Markdown bullet list plus link format is appropriate:\n",
    "\n",
    "- [MAST API](https://mast.stsci.edu/api/v0/index.html)\n",
    "- [TESS Archive Page (MAST)](https://archive.stsci.edu/tess/)\n",
    "- [TESS Archive Manual](https://outerspace.stsci.edu/display/TESS/TESS+Archive+Manual)\n",
    "- [Exo.MAST website](https://exo.mast.stsci.edu/)"
   ]
  },
  {
   "cell_type": "markdown",
   "metadata": {
    "slideshow": {
     "slide_type": "slide"
    }
   },
   "source": [
    "## About this Notebook\n",
    "This notebook was written for the \"Defeating Dr. Nefarious\" data challenge workshop. \n",
    "\n",
    "**Author:** Thomas Dutkiewicz <br>\n",
    "\n",
    "***\n",
    "[Top of Page](#top)\n",
    "<img style=\"float: right;\" src=\"https://raw.githubusercontent.com/spacetelescope/style-guides/master/guides/images/stsci-logo.png\" alt=\"Space Telescope Logo\" width=\"200px\"/> "
   ]
  }
 ],
 "metadata": {
  "kernelspec": {
   "display_name": "Python 3 (ipykernel)",
   "language": "python",
   "name": "python3"
  },
  "language_info": {
   "codemirror_mode": {
    "name": "ipython",
    "version": 3
   },
   "file_extension": ".py",
   "mimetype": "text/x-python",
   "name": "python",
   "nbconvert_exporter": "python",
   "pygments_lexer": "ipython3",
   "version": "3.13.2"
  }
 },
 "nbformat": 4,
 "nbformat_minor": 4
}
