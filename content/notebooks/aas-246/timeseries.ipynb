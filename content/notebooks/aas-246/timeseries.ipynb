{
 "cells": [
  {
   "cell_type": "markdown",
   "id": "668b6ed6-e018-4989-9f8c-ca9c590a0940",
   "metadata": {},
   "source": [
    "# Analyzing Light Curves with Lightkurve\n",
    "***\n",
    "This notebook will cover the basics of getting lightcurve data from MAST. We'll use the popular lightkurve package for our analysis.\n",
    "\n",
    "In this notebook, you'll learn:\n",
    "- How to get the cloud locations of files\n",
    "- How to use lightkuve to calculate meaningful properties of astrophysical targets"
   ]
  },
  {
   "cell_type": "markdown",
   "id": "df7b069c-4d1a-49cf-a2e7-fed46c2842eb",
   "metadata": {},
   "source": [
    "## Imports"
   ]
  },
  {
   "cell_type": "code",
   "execution_count": null,
   "id": "66d6835b-b7c4-468f-baf4-4599acc38ce6",
   "metadata": {},
   "outputs": [],
   "source": []
  },
  {
   "cell_type": "markdown",
   "id": "ec158013-e6d6-4b15-aaee-85b51c057e00",
   "metadata": {},
   "source": [
    "## Querying for Cloud Data\n"
   ]
  },
  {
   "cell_type": "code",
   "execution_count": null,
   "id": "1b535bb6-3def-46e8-b265-b5e6fa94a362",
   "metadata": {},
   "outputs": [],
   "source": []
  },
  {
   "cell_type": "markdown",
   "id": "4844c1d3-023f-4235-ac92-11fb926520ef",
   "metadata": {},
   "source": [
    "## Lightkurve\n",
    "\n",
    "Lightkurve is designed to be used with data from the Kepler and TESS missions. It has many features to make this easy."
   ]
  }
 ],
 "metadata": {
  "kernelspec": {
   "display_name": "Python 3 (ipykernel)",
   "language": "python",
   "name": "python3"
  },
  "language_info": {
   "codemirror_mode": {
    "name": "ipython",
    "version": 3
   },
   "file_extension": ".py",
   "mimetype": "text/x-python",
   "name": "python",
   "nbconvert_exporter": "python",
   "pygments_lexer": "ipython3",
   "version": "3.13.2"
  }
 },
 "nbformat": 4,
 "nbformat_minor": 5
}
