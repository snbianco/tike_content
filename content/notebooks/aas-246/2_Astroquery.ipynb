{
 "cells": [
  {
   "cell_type": "markdown",
   "id": "093de99e-1a9d-4d5c-b249-7850781c47c1",
   "metadata": {},
   "source": [
    "# Challenge #2: Querying MAST Data with Astroquery\n",
    "\n",
    "---\n",
    "\n",
    "## Learning Goals\n",
    "\n",
    "- Use `astroquery.mast` to search for observations across mission collections by coordinates, object name, and other criteria.\n",
    "- Fetch and filter the data products associated with observations.\n",
    "- Locate and access data products on the cloud.\n",
    "\n",
    "## Table of Contents\n",
    "\n",
    "- [Introduction](#Introduction)\n",
    "- [Imports and Setup](#Imports-and-Setup)\n",
    "- [Querying for MAST Observations](#Querying-for-MAST-Observations)\n",
    "  - [Query for Observations](#Step-1.-Query-for-Observations)\n",
    "  - [Fetch and Filter Product Files](#Step-2.-Fetch-and-Filter-Product-Files)\n",
    "  - [Access Data on the Cloud](#Step-3.-Access-Data-on-the-Cloud)\n",
    "  - [Streamlined Query](#Streamlined-Query)\n",
    "- [Exercise](#Exercise)\n",
    "\n",
    "## Introduction\n",
    "\n",
    "Dr. Nefarious has scrambled the index to the MAST Archive! Without it, astronomers can't locate critical datasets, and the longer is stays scrambled, the closer he gets to wiping the archive forever. Your next objective is clear: restore access to the Archive's data using powerful querying tools.\n",
    "Your goal is to track down the exact files needed to uncover Dr. Nefarious’s next move — and send him running back to his data void.\n",
    "\n",
    "Let’s bring the archive back online. Query away, agent."
   ]
  },
  {
   "cell_type": "markdown",
   "id": "d2789558-a922-46f7-b55c-af984fe9cbdb",
   "metadata": {},
   "source": [
    "## Imports and Setup\n",
    "\n",
    "This notebook uses the following packages:\n",
    "- `astropy` to handle coordinates, time, and units.\n",
    "- `astroquery.mast` to search for and select data from the MAST archive."
   ]
  },
  {
   "cell_type": "code",
   "execution_count": null,
   "id": "943d1414-8b99-49df-9227-8e49bec2b841",
   "metadata": {},
   "outputs": [],
   "source": [
    "from astropy.coordinates import SkyCoord\n",
    "from astropy.time import Time\n",
    "import astropy.units as u\n",
    "from astroquery.mast import Observations, discovery_portal"
   ]
  },
  {
   "cell_type": "markdown",
   "id": "791cd4f5-8388-4448-88fa-399a899641a9",
   "metadata": {},
   "source": [
    "We will also enable cloud data access in `astroquery.mast`. This will allow us to fetch the cloud URIs for data products and access files directly without downloading them."
   ]
  },
  {
   "cell_type": "code",
   "execution_count": null,
   "id": "f7c5e75f-15a8-4c43-98ec-5d44caf3700e",
   "metadata": {},
   "outputs": [],
   "source": [
    "Observations.enable_cloud_dataset()"
   ]
  },
  {
   "cell_type": "markdown",
   "id": "88c046b0-850f-4a60-982c-78787a38d425",
   "metadata": {},
   "source": [
    "---\n",
    "\n",
    "## Querying for MAST Observations\n",
    "\n",
    "In this section, we will use the following workflow to access MAST data:\n",
    "\n",
    "1. Query for observations in MAST using metadata criteria.\n",
    "2. Fetch and filter the product files associated with each observation.\n",
    "3. Access the data directly by fetching the location of each product file in S3 cloud storage.\n",
    "   \n",
    "### Step 1. Query for Observations\n",
    "\n",
    "The [`astroquery.mast.Observations`](https://astroquery.readthedocs.io/en/latest/mast/mast_obsquery.html) class allows direct programmatic access to the [MAST Portal](https://mast.stsci.edu/portal/Mashup/Clients/Mast/Portal.html) and is used to query MAST observational data.\n",
    "\n",
    "Metadata queries can be done with three different functions:\n",
    "- `query_region()`: Performs a cone search given target coordinates and a radius (default = 0.2 degrees)\n",
    "- `query_object()`: Performs a cone search around an object by resolving the name of the object to coordinates.\n",
    "- `query_criteria()`: Returns a list of observations that meet a given set of criteria. "
   ]
  },
  {
   "cell_type": "markdown",
   "id": "89e9b6f5-a84c-4302-a9f1-ccbf7184eaeb",
   "metadata": {},
   "source": [
    "#### Region Search\n",
    "\n",
    "First, let's write a query to search for observations in a certain region of the sky. We will pass in a set of coordinates and a radius in arcminutes to the `query_region` function. If no radius is specified, the default value is 0.2 degrees."
   ]
  },
  {
   "cell_type": "code",
   "execution_count": null,
   "id": "dd60ab1b-9722-44ff-8aea-bed24175d0ed",
   "metadata": {},
   "outputs": [],
   "source": [
    "# Query for TESS observations around a coordinate\n",
    "coordinates = SkyCoord('21h57m39.04625s -29d37m20.0533s')\n",
    "obs = Observations.query_region(coordinates=coordinates,\n",
    "                                radius='1 second')\n",
    "print(f'Total number of observations: {len(obs)}')\n",
    "obs[:5]"
   ]
  },
  {
   "cell_type": "markdown",
   "id": "abc34754-6ab2-4f2e-ba85-a9996ed278ee",
   "metadata": {},
   "source": [
    "#### Object Search\n",
    "\n",
    "We can query for observations around a certain object using the `query_object` function. We can query for observations around a certain object using the `query_object` function. We will query for observations around [M11](https://science.nasa.gov/mission/hubble/science/explore-the-night-sky/hubble-messier-catalog/messier-11/), an open star cluster in the Scutum constellation. We will set the search radius to 2 arcseconds. We will set the search radius to 2 arcseconds."
   ]
  },
  {
   "cell_type": "code",
   "execution_count": null,
   "id": "88b0f655-f70b-4f83-92bc-377194009644",
   "metadata": {},
   "outputs": [],
   "source": [
    "obs = Observations.query_object(objectname='M11',\n",
    "                                radius=2 * u.arcsec)\n",
    "print(f'Total number of observations: {len(obs)}')\n",
    "obs[:5]"
   ]
  },
  {
   "cell_type": "markdown",
   "id": "fd343ee9-8f60-4f93-94dd-6fad53973f6c",
   "metadata": {},
   "source": [
    "#### Criteria Search\n",
    "\n",
    "To search for observations based on additional parameters, you can use the `query_criteria` function. `query_criteria()` is the most versatile of the three query functions. You can still search by `coordinates` or `objectname`, but you can also query by additional desired criteria. Keep in mind, however, that at least one non-positional criterion must be supplied to `query_criteria()`. Otherwise, you should use one of the other query functions.\n",
    "\n",
    "To perform a search with `query_criteria()`, provide your criteria as keyword arguments. Valid criteria and their descriptions are provided as [CAOM Field Descriptions](https://mast.stsci.edu/api/v0/_c_a_o_mfields.html), or you can use the `get_metadata()` function:"
   ]
  },
  {
   "cell_type": "code",
   "execution_count": null,
   "id": "f9890d19-8499-42c1-8388-69841d5294d4",
   "metadata": {},
   "outputs": [],
   "source": [
    "Observations.get_metadata('observations')"
   ]
  },
  {
   "cell_type": "markdown",
   "id": "f31c0135",
   "metadata": {},
   "source": [
    "Let's make another search around [Betelgeuse](https://science.nasa.gov/universe/what-is-betelgeuse-inside-the-strange-volatile-star/), a red supergiant star in the constellation of Orion.  This time, we will limit our results to timeseries observations from the [TESS mission](https://science.nasa.gov/mission/tess/)."
   ]
  },
  {
   "cell_type": "code",
   "execution_count": null,
   "id": "b0557bed-5a45-4a5d-b439-64a7d3036c0e",
   "metadata": {},
   "outputs": [],
   "source": [
    "obs = Observations.query_criteria(objectname='Betelgeuse',\n",
    "                                  radius=2 * u.arcsec,\n",
    "                                  obs_collection='TESS',\n",
    "                                  dataproduct_type='timeseries')\n",
    "obs"
   ]
  },
  {
   "cell_type": "markdown",
   "id": "69872501",
   "metadata": {},
   "source": [
    "##### Other Tips and Tricks\n",
    "\n",
    "`query_criteria()` is a powerful function, and there are some neat tricks you can use to perform more advanced queries.\n",
    "\n",
    "##### Value Range Search\n",
    "\n",
    "To query on fields that have a float data type, the keyword argument value should be in the form [minVal, maxVal]. Let's perform a rectangular region search of TESS timeseries observations by providing a range of values to the `s_ra` and `s_dec` keywords."
   ]
  },
  {
   "cell_type": "code",
   "execution_count": null,
   "id": "425aa68b",
   "metadata": {},
   "outputs": [],
   "source": [
    "# Perform a rectangular region search\n",
    "obs = Observations.query_criteria(obs_collection='TESS',\n",
    "                                  dataproduct_type='timeseries',\n",
    "                                  s_ra=[320, 320.5],\n",
    "                                  s_dec=[22, 22.2])\n",
    "obs"
   ]
  },
  {
   "cell_type": "markdown",
   "id": "d0e686c2",
   "metadata": {},
   "source": [
    "We can also use ranges to query on time-based keywords, prefixed by `t_`. The `astropy.Time` module can be used to convert dates into Modified Julian Date (MJD) format. Let's query for all TESS timeseries that were released after May 1, 2025 by providing a value range to the `t_obs_release` keyword."
   ]
  },
  {
   "cell_type": "code",
   "execution_count": null,
   "id": "d994394e",
   "metadata": {},
   "outputs": [],
   "source": [
    "# Get dates in Modified Julian Date (MJD) format\n",
    "may_time = Time('2025-05-01').mjd\n",
    "curr_time = Time.now().mjd\n",
    "\n",
    "# Query for all observations released since November 1, 2024\n",
    "obs = Observations.query_criteria(obs_collection='TESS',\n",
    "                                  dataproduct_type='timeseries',\n",
    "                                  t_obs_release=[may_time, curr_time])\n",
    "print(f'Number of Observations: {len(obs)}')\n",
    "obs[:5]"
   ]
  },
  {
   "cell_type": "markdown",
   "id": "e293b060",
   "metadata": {},
   "source": [
    "##### Multi-Valued Search\n",
    "\n",
    "For non-float criteria, you can pass in more than one value for a keyword by supplying the arguments as a list. The `sequence_number` keyword corresponds to the TESS sector. Below is a query that returns the TESS timeseries observations around the star Fomalhaut for sectors 2 and 29."
   ]
  },
  {
   "cell_type": "code",
   "execution_count": null,
   "id": "8bbf93a9",
   "metadata": {},
   "outputs": [],
   "source": [
    "obs = Observations.query_criteria(objectname='Fomalhaut',\n",
    "                                  obs_collection='TESS',\n",
    "                                  dataproduct_type='timeseries',\n",
    "                                  sequence_number=[2, 29])\n",
    "obs"
   ]
  },
  {
   "cell_type": "markdown",
   "id": "d62e954a",
   "metadata": {},
   "source": [
    "##### Wildcard Search\n",
    "\n",
    "Non-float criteria also support the use of wildcards. These are special characters used in search patterns to represent one or more unknown characters, allowing for flexible matching of strings. The available wildcards are `%` and `*`: each replaces any number of characters preceding, following, or in between the existing characters, depending on its placement. Wildcards can only be inserted into `string` objects in Python. However, you can use wildcards with integer criteria by passing in the arguments as strings. Remember this important caveat: only one wildcarded value can be processed per criterion.\n",
    "\n",
    "The following query demonstrates the use of wildcards. It returns TESS timeseries observations around Fomalhaut where the proposal ID string starts with \"G0\" and contains the character \"5\". It also selects for observations where the sector number begins with \"2\". Note that although `sequence_number` is an integer field, it accepts a wildcarded string."
   ]
  },
  {
   "cell_type": "code",
   "execution_count": null,
   "id": "0d4c7089",
   "metadata": {},
   "outputs": [],
   "source": [
    "obs = Observations.query_criteria(objectname='Fomalhaut',\n",
    "                                  obs_collection='TESS',\n",
    "                                  dataproduct_type='timeseries',\n",
    "                                  proposal_id='G0*5*',\n",
    "                                  sequence_number='2*')\n",
    "obs"
   ]
  },
  {
   "cell_type": "markdown",
   "id": "ad8218a5",
   "metadata": {},
   "source": [
    "### Step 2. Fetch and Filter Product Files\n",
    "\n",
    "Each observation returned by a MAST query can have one or more associated data products. For reproducibility, let's query the TESS timeseries observations for the target `375422201` in the [TESS Input Catalog (TIC)](https://tess.mit.edu/science/tess-input-catalogue/). We will also select for sectors 15, 16, and 17."
   ]
  },
  {
   "cell_type": "code",
   "execution_count": null,
   "id": "da3e4e37",
   "metadata": {},
   "outputs": [],
   "source": [
    "TESS_table = Observations.query_criteria(target_name=375422201,\n",
    "                                         obs_collection=\"TESS\",\n",
    "                                         dataproduct_type='timeseries',\n",
    "                                         sequence_number=[15, 16, 17]) \n",
    "TESS_table"
   ]
  },
  {
   "cell_type": "markdown",
   "id": "52978921",
   "metadata": {},
   "source": [
    "We can use the `Observations.get_product_list()` function to return the underlying product files for the four observations above. As input, the function takes a table of observations or a list of observation IDs (`obs_id` column)."
   ]
  },
  {
   "cell_type": "code",
   "execution_count": null,
   "id": "c7e0fcd9",
   "metadata": {},
   "outputs": [],
   "source": [
    "data_products = Observations.get_product_list(TESS_table)\n",
    "\n",
    "print(f'Total Products: {len(data_products)}')\n",
    "data_products[:5]"
   ]
  },
  {
   "cell_type": "markdown",
   "id": "0b52cbfc",
   "metadata": {},
   "source": [
    "#### Filtering Products\n",
    "\n",
    "This returned quite a few products! We are not interested in all of them, and luckily, we have a handy function to filter them for us. `Observations.filter_products` allows you to filter based on minimum recommended products (`mrp_only`), file extension (`extension`), and any other of the [product fields](https://mast.stsci.edu/api/v0/_productsfields.html).\n",
    "\n",
    "A quick note on filtering: the **AND** operation is performed for a list of filters, and the **OR** operation is performed within a filter set. For example, the filter below will return products that are \"SCIENCE\" type **and** have a `productSubGroupDescription` of \"LC\" (light curves) **or** \"TP\" (target pixel files)."
   ]
  },
  {
   "cell_type": "code",
   "execution_count": null,
   "id": "4e8cb04c",
   "metadata": {},
   "outputs": [],
   "source": [
    "science_products = Observations.filter_products(data_products,\n",
    "                                                productType='SCIENCE',\n",
    "                                                productSubGroupDescription=['LC', 'TP'])\n",
    "science_products"
   ]
  },
  {
   "cell_type": "markdown",
   "id": "3d72db19",
   "metadata": {},
   "source": [
    "### Step 3. Access Data on the Cloud\n",
    "\n",
    "Certain mission data is publicly available for free on [Amazon Web Services](https://registry.opendata.aws/collab/stsci/). Now that we have a table of filtered products, we can use the `Observations.get_cloud_uris` function to locate these product files in the S3 bucket."
   ]
  },
  {
   "cell_type": "code",
   "execution_count": null,
   "id": "ab92b8f9",
   "metadata": {},
   "outputs": [],
   "source": [
    "Observations.get_cloud_uris(science_products)"
   ]
  },
  {
   "cell_type": "markdown",
   "id": "7fa8c1f9",
   "metadata": {},
   "source": [
    "The output is a list of S3 URIs: one for each product in the table that we passed into the function. We can now use these URIs to open the files and stream their data directly into system memory. No expensive downloading required!\n",
    "\n",
    "Details on accessing cloud data is out of scope for this tutorial, but there are multiple methods available to you as a MAST user:\n",
    "- Use `astropy.io.fits` to open FITS files directly from the cloud.\n",
    "- Use the `s3fs` package to browse and access files in S3 buckets.\n",
    "- Use the `lightkurve` package to read TESS/Kepler/K2 data products directly from the cloud.\n",
    "\n",
    "### Streamlined Query\n",
    "\n",
    "In this tutorial, we walked through a 3-step workflow to query MAST observations and locate data products on the cloud. You can streamline this process by providing query criteria and product filters directly to the `get_cloud_uris()` function! Query criteria are supplied as keyword arguments, and filters are supplied through the `filter_products` parameter.\n",
    "\n",
    "Below is the streamlined version of the walkthrough example:"
   ]
  },
  {
   "cell_type": "code",
   "execution_count": null,
   "id": "0e21a491",
   "metadata": {},
   "outputs": [],
   "source": [
    "Observations.get_cloud_uris(target_name=375422201,\n",
    "                            obs_collection=\"TESS\",\n",
    "                            dataproduct_type='timeseries',\n",
    "                            sequence_number=[15, 16, 17],\n",
    "                            filter_products={'productType': 'SCIENCE',\n",
    "                                             'productSubGroupDescription': ['LC', 'TP']})"
   ]
  },
  {
   "cell_type": "markdown",
   "id": "2e1061b1",
   "metadata": {},
   "source": [
    "## Exercise\n",
    "\n",
    "To unlock your clue for this challenge, you'll need to use the workflow described in this notebook to query for observations and fetch product files, and locate data on the cloud.\n",
    "\n",
    "First, write a query that satisfies the following criteria:\n",
    "- Cone search around the M11 object with a radius of 0.2 degrees.\n",
    "- Image observations intended for science.\n",
    "- Wavelength region is \"OPTICAL\" or \"INFRARED\".\n",
    "- Observation description (title) contains the word \"survey\".\n",
    "- Observation exposure time is between 785 and 794 seconds."
   ]
  },
  {
   "cell_type": "code",
   "execution_count": null,
   "id": "2313049d",
   "metadata": {},
   "outputs": [],
   "source": [
    "# Write your criteria query\n",
    "   "
   ]
  },
  {
   "cell_type": "markdown",
   "id": "5047180f",
   "metadata": {},
   "source": [
    "Next, you'll need to get the product files for your query results and filter them to only include the following:\n",
    "- FITS files.\n",
    "- Publicly available files (HINT: `dataRights` field)."
   ]
  },
  {
   "cell_type": "code",
   "execution_count": null,
   "id": "3ae2d362",
   "metadata": {},
   "outputs": [],
   "source": [
    "# Get data products for your observations\n"
   ]
  },
  {
   "cell_type": "code",
   "execution_count": null,
   "id": "36fce71c",
   "metadata": {},
   "outputs": [],
   "source": [
    "# Filter data products\n"
   ]
  },
  {
   "cell_type": "markdown",
   "id": "302cb616",
   "metadata": {},
   "source": [
    "Finally, you should get S3 URIs for your list of filtered products."
   ]
  },
  {
   "cell_type": "code",
   "execution_count": null,
   "id": "63da0211",
   "metadata": {},
   "outputs": [],
   "source": [
    "# Get cloud URIs for the filtered products"
   ]
  },
  {
   "cell_type": "markdown",
   "id": "d2639626",
   "metadata": {},
   "source": [
    "Excellent job, agent! Your clue is hidden in the final column of your filtered product results.\n",
    "\n",
    "Continue on to the next challenge to gather more clues and thwart Dr. Nefarious's plans!"
   ]
  },
  {
   "cell_type": "markdown",
   "id": "35c33e12-6ade-4d74-b291-574b3a875ed3",
   "metadata": {},
   "source": [
    "## Additional Resources\n",
    "\n",
    "- [`astroquery.mast` Documentation](https://astroquery.readthedocs.io/en/latest/mast/mast.html)\n",
    "- [MAST Portal API](https://mast.stsci.edu/api/v0/)\n",
    "- [MAST Portal UI](https://mast.stsci.edu/portal/Mashup/Clients/Mast/Portal.html)\n",
    "\n",
    "## About this Notebook\n",
    "\n",
    "**Author:** Sam Bianco <br>\n",
    "**Keywords:** AAS 246, Astroquery, Cloud, Observations <br>\n",
    "**Last Updated:** June 2025 <br>\n",
    "***\n",
    "[Top of Page](#top)\n",
    "<img style=\"float: right;\" src=\"https://raw.githubusercontent.com/spacetelescope/notebooks/master/assets/stsci_pri_combo_mark_horizonal_white_bkgd.png\" alt=\"Space Telescope Logo\" width=\"200px\"/> "
   ]
  }
 ],
 "metadata": {
  "kernelspec": {
   "display_name": "TESS Environment",
   "language": "python",
   "name": "tess"
  },
  "language_info": {
   "codemirror_mode": {
    "name": "ipython",
    "version": 3
   },
   "file_extension": ".py",
   "mimetype": "text/x-python",
   "name": "python",
   "nbconvert_exporter": "python",
   "pygments_lexer": "ipython3",
   "version": "3.11.12"
  }
 },
 "nbformat": 4,
 "nbformat_minor": 5
}
