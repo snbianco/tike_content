{
 "cells": [
  {
   "cell_type": "markdown",
   "metadata": {},
   "source": [
    "<a id=\"top\"></a>\n",
    "# MAST Web Applications\n",
    "***\n",
    "## Learning Goals\n",
    "\n",
    "In this unit we will learn to use MAST's web applications. These user interfaces allow you to search MAST data for science data products, such as images, spectra and lightcurves. For simple queries, the web applications are often faster and easier to use than application program interfaces (APIs). \n",
    "\n",
    "By the end of this tutorial, you will understand how to query the MAST Archive for data from our 20+ missions. You will also understand how to leverage mission-specific metadata in your searches when you know the mission.\n",
    "\n",
    "You will learn to search: \n",
    "- across 20+ missions with MAST Portal\n",
    "- for JWST data with MAST Missions Search\n",
    "- to select the exact files you want to download with the Download Overlay in MAST Missions Search\n",
    "- for High Level Science Products (HLSPs) with MAST HLSP Search\n"
   ]
  },
  {
   "cell_type": "markdown",
   "metadata": {
    "slideshow": {
     "slide_type": "slide"
    }
   },
   "source": [
    "## Table of Contents\n",
    "* [Introduction](#Introduction)\n",
    "* [Search Across All MAST Missions](#Search-Across-All-MAST-Missions)\n",
    "* [MAST Missions Search](#MAST-Missions-Search)\n",
    "* [Search for High Level Science Products (HLSPs)](Search-for-High-Level-Science-Products-(HLSPs))\n",
    "* [Exercises](#Exercises)\n",
    "* [Links to MAST Applications](#Links-to-MAST-Applications)\n",
    "\n",
    "## Introduction\n",
    "Scientists access MAST data in a variety of ways. Some write programs in the language of their choosing which requires calling APIs. Some write notebooks which allows them to explore the data more interactively than with a traditional programming language. Notebooks still require learning how to use the APIs. Some go to the web applications first because they are easy to use and allow you to explore what is available."
   ]
  },
  {
   "cell_type": "markdown",
   "metadata": {},
   "source": [
    "***"
   ]
  },
  {
   "cell_type": "markdown",
   "metadata": {},
   "source": [
    "# Search Across All MAST Missions\n",
    "1.  Open the [MAST Portal web application](https://mast.stsci.edu/portal/Mashup/Clients/Mast/Portal.html)\n",
    "1.  You can use MAST Portal to query any target or do more advanced searches by clicking Advanced Search. For this example we will locate the Target search box at the top of the page and enter \"Carina Nebula\" and click Search. \n",
    "1.  Note that over 33,000 rows are returned with observations from 12+ missions.\n",
    "1.  You can do additional filtering, For this example we will select Mission = HST.\n",
    "1.  You can download files of interest by clicking on the download icon. If you have difficulty, make sure your browser allows popups for MAST."
   ]
  },
  {
   "cell_type": "markdown",
   "metadata": {},
   "source": [
    "# MAST Mission Search\n",
    "MAST Mission Search allows search using more metadata than search with MAST Portal. It also has a `Download Overlay` which allows you to be very specific about what files you want to download. \n",
    "\n",
    "It currently supports the Hubble Space Telescope (HST) and the James Webb Space Telescope (JWST) as well as some High Level Science Products (HLSPs).\n",
    "\n",
    "You can get help for MAST Mission Search at the [Mission Search Guide](https://outerspace.stsci.edu/display/MASTDOCS/Mission+Search+Guide).\n",
    "\n",
    "## Search for JWST data\n",
    "\n",
    "1.  Open the [MAST Mission Search web application](https://mast.stsci.edu/search)\n",
    "1.  Select JWST from the list of missions.\n",
    "1.  You can use MAST Mission Search to query any target or do more advanced searches. For this example we will locate the Object Name search box at the top of the page and enter `Trappist-1` and click `Search`. \n",
    "1.  Note that over 120 rows are returned with observations from JWST.\n",
    "1.  You can do additional filtering, For this example we will select PI = `Allen`.\n",
    "1.  You can download files of interest by selecting one or more rows, then click `Download Data` and then `Choose Files` which will bring up the Download Overlay."
   ]
  },
  {
   "cell_type": "markdown",
   "metadata": {},
   "source": [
    "## Choose the files you need with the Download Overlay\n",
    "The Download Overlay allows you to refine your selection of specific files to retrieve and to select a method for download. Help for the Download Overlay is here: \n",
    "https://outerspace.stsci.edu/display/MASTDOCS/Download+Overlay\n",
    "\n",
    "1.  The `Select procesing level` dropdown allows you to choose the calibration level for your needs.\n",
    "1.  Open the `Select procesing level` dropdown and choose `Association files`\n",
    "1.  Click the `Start Download` button to download the files."
   ]
  },
  {
   "cell_type": "markdown",
   "metadata": {},
   "source": [
    "# Search for High Level Science Products (HLSPs)\n",
    "\n",
    "1.  Open the [MAST HLSP Search web application](https://mast.stsci.edu/hlsp)\n",
    "1.  Note that on startup below the orange button, the message indicates over 240 HLSPs are available.\n",
    "1.  You can use MAST HLSP Search to find topics of interest. For this example we will locate the `Astronomical object types` dropdown and select `Star: variable` and click `Search`. \n",
    "1.  Note that 14 results are returned.\n",
    "1.  Scroll down to see the result cards.\n",
    "1.  Note that clicking on the title will take you to the information page for that HLSP.\n",
    "1.  Note that clicking on the primary reference will take you to the ADS page for that paper."
   ]
  },
  {
   "cell_type": "markdown",
   "metadata": {},
   "source": [
    "## Exercises\n",
    "\n",
    "### Exercise 1\n",
    "MAST contains observational data from how many missions for the `Trappist-1` system? \n",
    "\n",
    "### Exercise 2\n",
    "Use MAST Mission Search to look up Program `2875` for JWST. Pale yellow background indicates planned observations, that is, observations that have been planned but not yet executed. Are there any planned observations for this program?\n",
    "\n",
    "### Get the next clue\n",
    "Use MAST Mission Search to look up Program `3969` for JWST. Find the Principal Investigator (PI). The clue is the first letter of their last name."
   ]
  },
  {
   "cell_type": "markdown",
   "metadata": {},
   "source": [
    "## Links to MAST \n",
    "\n",
    "### Web Applications in this Tutorial\n",
    "- [MAST Portal](https://mast.stsci.edu/portal/Mashup/Clients/Mast/Portal.html)\n",
    "- [MAST Mission Search](https://mast.stsci.edu/search/)\n",
    "- [MAST HLSP Search](https://mast.stsci.edu/hlsp/)\n",
    "\n",
    "### Other Useful Links\n",
    "- [MAST Archive Homepage](https://archive.stsci.edu/)\n",
    "- [MAST Documentation](https://outerspace.stsci.edu/display/MASTDOCS)\n",
    "- [MAST API Documentation Hub](https://mast.stsci.edu/docs/)\n"
   ]
  },
  {
   "cell_type": "markdown",
   "metadata": {
    "slideshow": {
     "slide_type": "slide"
    }
   },
   "source": [
    "## About this Notebook\n",
    "This notebook was written for the \"Defeating Dr. Nefarious\" data challenge workshop. \n",
    "\n",
    "**Author(s):** Jeff Chamblee <br>\n",
    "**Keyword(s):** Tutorial, MAST Web Applications <br>\n",
    "**First published:** Jun 2025 <br>\n",
    "\n",
    "***\n",
    "[Top of Page](#top)\n",
    "<img style=\"float: right;\" src=\"https://raw.githubusercontent.com/spacetelescope/style-guides/master/guides/images/stsci-logo.png\" alt=\"Space Telescope Logo\" width=\"200px\"/> "
   ]
  }
 ],
 "metadata": {
  "kernelspec": {
   "display_name": "Python 3 (ipykernel)",
   "language": "python",
   "name": "python3"
  },
  "language_info": {
   "codemirror_mode": {
    "name": "ipython",
    "version": 3
   },
   "file_extension": ".py",
   "mimetype": "text/x-python",
   "name": "python",
   "nbconvert_exporter": "python",
   "pygments_lexer": "ipython3",
   "version": "3.12.10"
  }
 },
 "nbformat": 4,
 "nbformat_minor": 4
}
