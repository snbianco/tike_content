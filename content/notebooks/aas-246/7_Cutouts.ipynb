{
 "cells": [
  {
   "cell_type": "markdown",
   "id": "02ecc460",
   "metadata": {},
   "source": [
    "# Challenge #7: Creating Cutouts from Astronomical Images\n",
    "\n",
    "---\n",
    "\n",
    "## Learning Goals\n",
    "\n",
    "- Use the `astrocut` package to create cutouts from FITS images and TESS full-frame image cubes.\n",
    "- Create color images from stacks of cutouts.\n",
    "- Visualize cutouts using `matplotlib` and `lightkurve`.\n",
    "\n",
    "## Table of Contents\n",
    "\n",
    "- [Introduction](#Introduction)\n",
    "- [Imports](#Imports)\n",
    "- [Cutouts of FITS Images](#Cutouts-of-FITS-Images)\n",
    "    - [Image Outputs](#Image-Outputs)\n",
    "- [Cutouts of TESS Full Frame Image Cubes](#Cutouts-of-TESS-Full-Frame-Image-Cubes)\n",
    "- [Exercise](#Exercise)\n",
    "\n",
    "## Introduction\n",
    "\n",
    "Dr. Nefarious is trying to corrupt the archive by overwhelming it with irrelevant data. To stop him, you’ll need to isolate the scientifically valuable regions of massive astronomical datasets—zooming in on stars, galaxies, and transient events with precision.\n",
    "\n",
    "You’ll learn how to:\n",
    "\n",
    "- Extract cutouts from FITS images using the `FITSCutout` class.\n",
    "- Create cutouts from TESS full-frame images using the `TessFootprintCutout` class.\n",
    "\n",
    "Each cutout you generate brings us one step closer to locking Dr. Nefarious out and securing the archive’s future.\n",
    "\n",
    "Time is ticking. Let’s dive in.\n",
    "\n",
    "## Imports\n",
    "\n",
    "This notebook uses the following packages:\n",
    "\n",
    "- `astrocut` for creating cutouts from astronomical images.\n",
    "- `astropy` for handling FITS files and coordinates.\n",
    "- `astroquery.mast` for identifying TESS sectors.\n",
    "- `lightkurve` for visualizing TESS data.\n",
    "- `matplotlib` for visualizing the cutouts."
   ]
  },
  {
   "cell_type": "code",
   "execution_count": null,
   "id": "0aa8c5e0",
   "metadata": {},
   "outputs": [],
   "source": [
    "import warnings\n",
    "\n",
    "import lightkurve as lk\n",
    "import matplotlib.pyplot as plt\n",
    "from astrocut import FITSCutout, TessFootprintCutout\n",
    "from astropy.coordinates import SkyCoord\n",
    "from astropy.io import fits\n",
    "from astropy.wcs import FITSFixedWarning\n",
    "from astroquery.mast import Tesscut\n",
    "\n",
    "# Ignore all FITSFixedWarning warnings\n",
    "warnings.simplefilter('ignore', FITSFixedWarning)"
   ]
  },
  {
   "cell_type": "markdown",
   "id": "afb2a068-7d31-4897-af66-9de6ee8f1b75",
   "metadata": {},
   "source": [
    "---"
   ]
  },
  {
   "cell_type": "markdown",
   "id": "3c3018ee",
   "metadata": {},
   "source": [
    "## Cutouts of FITS Images\n",
    "\n",
    "In this section, we will learn how to create cutouts of FITS images using the `astrocut` library. The Flexible Image Transport System (FITS) is a standard format for astronomical data. Astrocut can generate cutouts from FITS files and return the results in memory or as a written file, depending on the user’s preference.\n",
    "\n",
    "Let's create a cutout of some stack images from the Pan-STARRS survey. These images are of the same region of the sky, but they use three different broadband filters: i, r, and g. We will create a square cutout around Stephan's Quintet, a visual grouping of five galaxies located in the Pegasus constellation.\n",
    "\n",
    "First, let's plot one of our input images to see what we are working with. We will use the `astropy.io.fits` module to read the FITS file and `matplotlib` to visualize it."
   ]
  },
  {
   "cell_type": "code",
   "execution_count": null,
   "id": "bb2952f5",
   "metadata": {},
   "outputs": [],
   "source": [
    "input_files = ['s3://stpubdata/panstarrs/ps1/public/rings.v3.skycell/2081/049/rings.v3.skycell.2081.049.stk.i.unconv.fits',\n",
    "               's3://stpubdata/panstarrs/ps1/public/rings.v3.skycell/2081/049/rings.v3.skycell.2081.049.stk.r.unconv.fits',\n",
    "               's3://stpubdata/panstarrs/ps1/public/rings.v3.skycell/2081/049/rings.v3.skycell.2081.049.stk.g.unconv.fits']\n",
    "\n",
    "with fits.open(input_files[0], do_not_scale_image_data=True, ignore_blank=True,fsspec_kwargs={'anon': True}) as hdul:\n",
    "    hdul.info()\n",
    "    comp_hdu = hdul[1]\n",
    "    data = comp_hdu.section[...].astype(float)\n",
    "\n",
    "plt.imshow(data, cmap='gray')\n",
    "plt.show()"
   ]
  },
  {
   "cell_type": "markdown",
   "id": "ef37847a",
   "metadata": {},
   "source": [
    "This entire image is 6274 x 6265 pixels! When processing large images, it is often more efficient to work with cutouts that focus on the region of interest. If you look closely, you can see Stephan's Quintet in the lower left corner of the image. Let's create a cutout that zooms in on this region using the `astrocut`.\n",
    "\n",
    "To make a cutout from a FITS file or files, we will use the `FITSCutout` class, which accepts the following parameters:\n",
    "- `input_files`: A list of input image files in the expected format. These can be local file paths, URLs, or S3 URIs.\n",
    "- `coordinates`: The coordinates at the center of the cutout.\n",
    "- `cutout_size`: The size of the cutout in pixels or angular units.\n",
    "- `fill_value`: If the cutout footprint falls outside of the image, this value will be used to fill the missing pixels.\n",
    "- `extension`: The FITS extension to use for the cutout. If not specified, the first extension with data will be used.\n",
    "- `single_outfile`: If set to `True`, cutouts are written to a single `HDUList` object. If set to `False`, each cutout is written to a separate `HDUList` object.\n",
    "- `verbose`: If set to `True`, log messages will be printed to the console."
   ]
  },
  {
   "cell_type": "code",
   "execution_count": null,
   "id": "750dfe7b",
   "metadata": {},
   "outputs": [],
   "source": [
    "coordinates = SkyCoord('339.0053026 33.9632280', unit='deg')  # Central coordinate of the cutout\n",
    "cutout_size = 800  # Size of the cutout in pixels - single scalar or (width, height)\n",
    "fits_cutout = FITSCutout(input_files=input_files,\n",
    "                         coordinates=coordinates,\n",
    "                         cutout_size=cutout_size,\n",
    "                         single_outfile=True)"
   ]
  },
  {
   "cell_type": "markdown",
   "id": "b9c86b27",
   "metadata": {},
   "source": [
    "The resulting `FITSCutout` object can be used to access cutout data and metadata. The `cutouts_by_file` attribute is a dictionary that stores the individual cutouts as a list of `CutoutInstance` objects by input filename. The `CutoutInstance` object contains the cutout data, shape, world coordinate system (WCS) and other helpful properties.\n",
    "\n",
    "The `hdu_cutouts_by_file` attribute is a dictionary that stores the cutouts as a list of `ImageHDU` objects by input filename. These objects can be used to access cutout data and metadata in the HDU header.\n",
    "\n",
    "The `fits_cutouts` attribute is a list of cutouts as `HDUList` objects. The `single_outfile` parameter decides whether all the cutouts will be written to a single HDUList object or to separate objects. When `single_outfile` is set to `True`, a single `HDUList` object will contain all the cutouts."
   ]
  },
  {
   "cell_type": "code",
   "execution_count": null,
   "id": "ed3445cb",
   "metadata": {},
   "outputs": [],
   "source": [
    "cutout = fits_cutout.fits_cutouts[0]\n",
    "cutout.info()"
   ]
  },
  {
   "cell_type": "markdown",
   "id": "f11f4956",
   "metadata": {},
   "source": [
    "As you can see, each cutout is saved in its own extension in a single `HDUList` object.\n",
    "\n",
    "Let's access and plot the cutout data for each filter:"
   ]
  },
  {
   "cell_type": "code",
   "execution_count": null,
   "id": "d635b6b9",
   "metadata": {},
   "outputs": [],
   "source": [
    "fig, axes = plt.subplots(1, 3, figsize=(15, 4))\n",
    "for i, (ax, filter) in enumerate(zip(axes, ['i', 'r', 'g'])):\n",
    "    ax.imshow(cutout[i + 1].data, cmap='gray')\n",
    "    ax.set_title(f'Filter: {filter}')\n",
    "    ax.set_xlabel('RA')\n",
    "    ax.set_ylabel('Dec')"
   ]
  },
  {
   "cell_type": "markdown",
   "id": "cb2123f0",
   "metadata": {},
   "source": [
    "### Image Outputs\n",
    "\n",
    "The `FITSCutout` class provide methods to normalize the cutout data and write it as an image, either as an `Image` object or a file.\n",
    "\n",
    "To create cutouts as `Image` objects, use the `get_image_cutouts` method. You can provide the following normalization parameters:\n",
    "- `stretch`: The stretch function to apply to the image array. Options include “asinh”, “sinh”, “sqrt”, “log”, and “linear”.\n",
    "- `minmax_percent`: Defines an interval for scaling the image based on percentiles. The format is [lower percentile, upper percentile], where pixel values outside this range are clipped. Only one of `minmax_percent` and `minmax_value` should be specified.\n",
    "- `minmax_value`: Defines an interval for scaling the image based on values. The format is [min value, max value], where pixel values outside this range are clipped. Only one of `minmax_percent` and `minmax_value` should be specified.\n",
    "- `invert`: A boolean value that determines whether the image should be inverted."
   ]
  },
  {
   "cell_type": "code",
   "execution_count": null,
   "id": "c8f33bf5",
   "metadata": {},
   "outputs": [],
   "source": [
    "images = fits_cutout.get_image_cutouts(stretch='linear', minmax_percent=[0, 100])\n",
    "images"
   ]
  },
  {
   "cell_type": "code",
   "execution_count": null,
   "id": "92d980e7",
   "metadata": {},
   "outputs": [],
   "source": [
    "# Display the image in the i-band filter\n",
    "i_img = images[0]\n",
    "i_img"
   ]
  },
  {
   "cell_type": "markdown",
   "id": "a6019c2e",
   "metadata": {},
   "source": [
    "To produce a colorized RGB image, set the `colorize` parameter to `True`. Color images require three cutouts, which will be treated as the R, G, and B channels, respectively."
   ]
  },
  {
   "cell_type": "code",
   "execution_count": null,
   "id": "09a38435",
   "metadata": {},
   "outputs": [],
   "source": [
    "color_img = fits_cutout.get_image_cutouts(stretch='linear', minmax_percent=[0, 100], colorize=True)[0]\n",
    "color_img"
   ]
  },
  {
   "cell_type": "markdown",
   "id": "3721e40c",
   "metadata": {},
   "source": [
    "## Cutouts of TESS Full Frame Image Cubes\n",
    "\n",
    "Astrocut allows you to create cutouts from image cube files, including TESS full-frame images (FFIs).\n",
    "\n",
    "The `TessFootprintCutout` class generates cutouts from TESS image cube files stored in MAST’s AWS Open Data Bucket. Simply provide the target coordinates and cutout size, and the class will match the cutout’s footprint to the footprints of available cube files on the cloud. A cutout target pixel file will be generated for each matching cube file.\n",
    "\n",
    "Let's create a cutout of a TESS full-frame image cube centered on the coordinates of a star in the TESS Input Catalog (TIC). First, we'll use the `astroquery.mast.Tesscut` class to identify the sectors that have observed the target star."
   ]
  },
  {
   "cell_type": "code",
   "execution_count": null,
   "id": "01f5a3a9",
   "metadata": {},
   "outputs": [],
   "source": [
    "tic_coord = SkyCoord('315.8821398 59.4306840', unit='deg')  # Coordinates for TIC 375422201\n",
    "Tesscut.get_sectors(coordinates=tic_coord)"
   ]
  },
  {
   "cell_type": "markdown",
   "id": "9c388a5e",
   "metadata": {},
   "source": [
    "To create the cutout, we will use the `TessFootprintCutout` class, which accepts the following parameters:\n",
    "\n",
    "- `coordinates`: The coordinates at the center of the cutout.\n",
    "- `cutout_size`: The size of the cutout in pixels or angular units.\n",
    "- `sequence`: The TESS sector number or a list of sector numbers to restrict the cutouts to specific sectors. If set to `None`, cutouts will be returned for all matching cube files.\n",
    "- `verbose`: If set to `True`, log messages will be printed to the console.\n",
    "\n",
    "We will use a cutout size of 10 pixels and only request the cutout from sector 15."
   ]
  },
  {
   "cell_type": "code",
   "execution_count": null,
   "id": "1a6f8ab3",
   "metadata": {},
   "outputs": [],
   "source": [
    "cutout_size = 10  # Size of the cutout in pixels\n",
    "sequence = 15  # TESS sector (or list of sectors)\n",
    "tess_cutout = TessFootprintCutout(coordinates=tic_coord, \n",
    "                                  cutout_size=cutout_size, \n",
    "                                  sequence=sequence)"
   ]
  },
  {
   "cell_type": "markdown",
   "id": "1dc634ce",
   "metadata": {},
   "source": [
    "The resulting `TessFootprintCutout` object can be used to access the cutout data and metadata. The `cutouts_by_file` attribute is a dictionary that stores the individual cutouts as a list of `CubeCutoutInstance` objects by input filename. The `CubeCutoutInstance` object contains the cutout data, shape, world coordinate system (WCS), and other helpful properties.\n",
    "\n",
    "The `tpf_cutouts_by_file` attribute is a dictionary that stores the cutouts as a list of `HDUList` objects by input filename. These objects are in the format of target pixel files and can be used to access cutout data and metadata in the HDU header. The `tpf_cutouts` attribute is a list of cutouts as `HDUList` objects in the format of target pixel files."
   ]
  },
  {
   "cell_type": "code",
   "execution_count": null,
   "id": "f0ad5c39",
   "metadata": {},
   "outputs": [],
   "source": [
    "tpf_cutout = tess_cutout.tpf_cutouts[0]\n",
    "tpf_cutout.info()"
   ]
  },
  {
   "cell_type": "markdown",
   "id": "aac1b109",
   "metadata": {},
   "source": [
    "To better visualize this cutout TPF, we can use the `lightkurve` package, which provides tools for working with TESS data. The `lightkurve` package can read the `HDUList` object and plot the timeseries data as an animation. If you watch closely, you can see the star's brightness change periodically."
   ]
  },
  {
   "cell_type": "code",
   "execution_count": null,
   "id": "eb894e95",
   "metadata": {},
   "outputs": [],
   "source": [
    "# Animate the cutout TPF with lightkurve\n",
    "tpf = lk.TessTargetPixelFile(tpf_cutout)\n",
    "tpf.animate()"
   ]
  },
  {
   "cell_type": "markdown",
   "id": "4d1e61f4",
   "metadata": {},
   "source": [
    "## Exercise\n",
    "\n",
    "To unlock the clue for this challenge, you need to create cutouts from another set of Pan-STARRS stack images. Follow the steps outlined in the sections above to generate the cutouts and visualize them.\n",
    "\n",
    "We will create a cutout around NGC 1300, a barred spiral galaxy located in the constellation Eridanus. The input image paths, coordinates, and cutout size are provided below. You should save the cutouts in a single `HDUList` object. Use the `FITSCutout` class to generate cutouts for the i, r, and g."
   ]
  },
  {
   "cell_type": "code",
   "execution_count": null,
   "id": "1efb9933",
   "metadata": {},
   "outputs": [],
   "source": [
    "input_files = ['s3://stpubdata/panstarrs/ps1/public/rings.v3.skycell/0892/015/rings.v3.skycell.0892.015.stk.i.unconv.fits',\n",
    "               's3://stpubdata/panstarrs/ps1/public/rings.v3.skycell/0892/015/rings.v3.skycell.0892.015.stk.r.unconv.fits',\n",
    "               's3://stpubdata/panstarrs/ps1/public/rings.v3.skycell/0892/015/rings.v3.skycell.0892.015.stk.g.unconv.fits']\n",
    "\n",
    "coordinates = SkyCoord('49.9210259 -19.4111632', unit='deg')  # Coordinates for NGC 1300\n",
    "cutout_size = (900, 600)  # Size of the cutout in pixels (width, height). Feel free to change this!\n",
    "\n",
    "# Create the cutouts here with `FITSCutout`!\n",
    "fits_cutout = ..."
   ]
  },
  {
   "cell_type": "markdown",
   "id": "833d9e36",
   "metadata": {},
   "source": [
    "Next, access the `HDUList` object associated with the cutout, and print it's info."
   ]
  },
  {
   "cell_type": "code",
   "execution_count": null,
   "id": "02c2371f",
   "metadata": {},
   "outputs": [],
   "source": [
    "# Access the `HDUList` object and print its info\n"
   ]
  },
  {
   "cell_type": "markdown",
   "id": "a4cf073c",
   "metadata": {},
   "source": [
    "Choose one of the cutouts and plot it using `matplotlib`."
   ]
  },
  {
   "cell_type": "code",
   "execution_count": null,
   "id": "a638e69e",
   "metadata": {},
   "outputs": [],
   "source": [
    "# Choose one of the cutouts to diplay with `matplotlib`\n"
   ]
  },
  {
   "cell_type": "markdown",
   "id": "1b152d39",
   "metadata": {},
   "source": [
    "Generate a RGB color image from the cutouts using the `get_image_cutouts` method. Play around with the different normalization parameters to see how they affect the final image."
   ]
  },
  {
   "cell_type": "code",
   "execution_count": null,
   "id": "d1361615",
   "metadata": {},
   "outputs": [],
   "source": [
    "# Generate a colorized image from the cutouts and display it\n"
   ]
  },
  {
   "cell_type": "markdown",
   "id": "a6c1307e",
   "metadata": {},
   "source": [
    "Hmmm, the shape of this galaxy reminds me of a certain letter... I think we've just found our clue! \n",
    "\n",
    "Congratulations cutout master! You're one step closer to stopping Dr. Nefarious."
   ]
  },
  {
   "cell_type": "markdown",
   "id": "1ff97a93-bfba-4ccc-90f8-00f21cf7235a",
   "metadata": {},
   "source": [
    "## Additional Resources\n",
    "\n",
    "- [Astrocut Documentation](https://astrocut.readthedocs.io/en/latest/index.html)\n",
    "\n",
    "## About this Notebook\n",
    "\n",
    "**Author:** Sam Bianco <br>\n",
    "**Keywords:** AAS 246, Astrocut, Cutouts, PS1, TESS <br>\n",
    "**Last Updated:** June 2025 <br>\n",
    "***\n",
    "[Top of Page](#top)\n",
    "<img style=\"float: right;\" src=\"https://raw.githubusercontent.com/spacetelescope/notebooks/master/assets/stsci_pri_combo_mark_horizonal_white_bkgd.png\" alt=\"Space Telescope Logo\" width=\"200px\"/> "
   ]
  }
 ],
 "metadata": {
  "kernelspec": {
   "display_name": "TESS Environment",
   "language": "python",
   "name": "tess"
  },
  "language_info": {
   "codemirror_mode": {
    "name": "ipython",
    "version": 3
   },
   "file_extension": ".py",
   "mimetype": "text/x-python",
   "name": "python",
   "nbconvert_exporter": "python",
   "pygments_lexer": "ipython3",
   "version": "3.11.12"
  }
 },
 "nbformat": 4,
 "nbformat_minor": 5
}
